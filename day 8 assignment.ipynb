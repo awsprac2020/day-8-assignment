{
 "cells": [
  {
   "cell_type": "code",
   "execution_count": 1,
   "metadata": {},
   "outputs": [
    {
     "name": "stdout",
     "output_type": "stream",
     "text": [
      "Enter file name: xyz\n",
      "File not found\n"
     ]
    }
   ],
   "source": [
    "filename = input(\"Enter file name: \")\n",
    "\n",
    "try:\n",
    "    f = open(filename, \"r\")\n",
    "\n",
    "    for line in f:\n",
    "        print(line, end=\"\")\n",
    "\n",
    "    f.close()\n",
    "except FileNotFoundError:\n",
    "    print(\"File not found\")\n",
    "\n",
    "except PermissionError:\n",
    "    print(\"You don't have the permission to read the file\")\n",
    "\n",
    "except:\n",
    "    print(\"Unexpected error while reading the file\")"
   ]
  },
  {
   "cell_type": "code",
   "execution_count": null,
   "metadata": {},
   "outputs": [
    {
     "name": "stdout",
     "output_type": "stream",
     "text": [
      "fib(1) =  1\n",
      "fib(2) =  1\n",
      "fib(3) =  2\n",
      "fib(4) =  3\n",
      "fib(5) =  5\n",
      "fib(6) =  8\n",
      "fib(7) =  13\n",
      "fib(8) =  21\n",
      "fib(9) =  34\n",
      "fib(10) =  55\n",
      "fib(11) =  89\n",
      "fib(12) =  144\n",
      "fib(13) =  233\n",
      "fib(14) =  377\n",
      "fib(15) =  610\n",
      "fib(16) =  987\n",
      "fib(17) =  1597\n",
      "fib(18) =  2584\n",
      "fib(19) =  4181\n",
      "fib(20) =  6765\n",
      "fib(21) =  10946\n",
      "fib(22) =  17711\n",
      "fib(23) =  28657\n",
      "fib(24) =  46368\n",
      "fib(25) =  75025\n",
      "fib(26) =  121393\n",
      "fib(27) =  196418\n",
      "fib(28) =  317811\n",
      "fib(29) =  514229\n",
      "fib(30) =  832040\n",
      "fib(31) =  1346269\n",
      "fib(32) =  2178309\n",
      "fib(33) =  3524578\n",
      "fib(34) =  5702887\n",
      "fib(35) =  9227465\n",
      "fib(36) =  14930352\n",
      "fib(37) =  24157817\n",
      "fib(38) =  39088169\n",
      "fib(39) =  63245986\n"
     ]
    }
   ],
   "source": [
    "def fibonacci(input_value):\n",
    "    if input_value == 1:\n",
    "        return 1\n",
    "    elif input_value == 2:\n",
    "        return 1\n",
    "    elif input_value > 2:\n",
    "        return fibonacci(input_value -1) + fibonacci(input_value -2)\n",
    "for i in range(1, 201):\n",
    "     print(\"fib({}) = \".format(i), fibonacci(i))"
   ]
  },
  {
   "cell_type": "code",
   "execution_count": null,
   "metadata": {},
   "outputs": [],
   "source": []
  }
 ],
 "metadata": {
  "kernelspec": {
   "display_name": "Python 3",
   "language": "python",
   "name": "python3"
  },
  "language_info": {
   "codemirror_mode": {
    "name": "ipython",
    "version": 3
   },
   "file_extension": ".py",
   "mimetype": "text/x-python",
   "name": "python",
   "nbconvert_exporter": "python",
   "pygments_lexer": "ipython3",
   "version": "3.8.3"
  }
 },
 "nbformat": 4,
 "nbformat_minor": 4
}
